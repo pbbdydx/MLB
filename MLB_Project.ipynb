{
  "nbformat": 4,
  "nbformat_minor": 0,
  "metadata": {
    "colab": {
      "provenance": []
    },
    "kernelspec": {
      "name": "python3",
      "display_name": "Python 3"
    },
    "language_info": {
      "name": "python"
    }
  },
  "cells": [
    {
      "cell_type": "code",
      "source": [
        "import numpy as np\n",
        "import pandas as pd\n",
        "from sklearn import datasets\n",
        "iris = datasets.load_iris()\n",
        "from sklearn.model_selection import train_test_split\n",
        "\n",
        "df = pd.DataFrame(iris['data'], columns = iris.feature_names)\n",
        "df\n",
        "X = iris.data\n",
        "Y = iris.target\n",
        "iris.target_names\n",
        "\n",
        "\n",
        "x_train, x_test, y_train, y_test = train_test_split(X,Y, test_size = 0.2)\n",
        "from sklearn.svm import SVC\n",
        "svm = SVC(gamma = 'scale')\n",
        "svm.fit(x_train, y_train)\n",
        "predictions = svm.predict(x_test)\n",
        "predictions\n",
        "for i in range(len(predictions)):\n",
        "  correct = 0\n",
        "  if predictions[i] == y_test[i]:\n",
        "    correct += 1\n",
        "\n",
        "print(f'Accuracy: {100*correct/len(predictions)}%')"
      ],
      "metadata": {
        "id": "oT0YeagiZZVu",
        "colab": {
          "base_uri": "https://localhost:8080/"
        },
        "outputId": "3594619a-7b20-4fd4-f1e3-d4f1bf968d17"
      },
      "execution_count": null,
      "outputs": [
        {
          "output_type": "stream",
          "name": "stdout",
          "text": [
            "Accuracy: 3.3333333333333335%\n"
          ]
        }
      ]
    },
    {
      "cell_type": "code",
      "source": [
        "\n"
      ],
      "metadata": {
        "id": "dXJNMHiYJubl"
      },
      "execution_count": null,
      "outputs": []
    }
  ]
}