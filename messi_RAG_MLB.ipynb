{
 "cells": [
  {
   "cell_type": "code",
   "execution_count": 2,
   "metadata": {
    "id": "4iYZvev__McU"
   },
   "outputs": [],
   "source": [
    "from openai import OpenAI\n",
    "import numpy as np"
   ]
  },
  {
   "cell_type": "code",
   "execution_count": null,
   "metadata": {
    "id": "rgzLPkHO_zYY"
   },
   "outputs": [],
   "source": [
    "client = OpenAI(api_key=<YOUR_KEY_HERE>)"
   ]
  },
  {
   "cell_type": "code",
   "execution_count": 9,
   "metadata": {
    "colab": {
     "base_uri": "https://localhost:8080/"
    },
    "collapsed": true,
    "id": "wj6KTwss_fSZ",
    "outputId": "1cde2f56-c73e-4d19-ebca-6815466d7ea9"
   },
   "outputs": [
    {
     "name": "stdout",
     "output_type": "stream",
     "text": [
      "Lionel Andrés Messi[note 1] (Spanish pronunciation: [ljoˈnel anˈdɾes ˈmesi] ⓘ; born 24 June 1987), also known as Leo Messi, is an Argentine professional footballer who plays as a forward for and captains both Major League Soccer club Inter Miami and the Argentina national team. Widely regarded as one of the greatest players of all time, Messi set numerous records for individual accolades won throughout his professional footballing career such as eight Ballon d'Or awards and eight times being named the world's best player by FIFA.[note 2] He is the most decorated player in the history of professional football having won 45 team trophies,[note 3] including twelve league titles, four UEFA Champions Leagues, two Copa Américas, and one FIFA World Cup. Messi holds the records for most European Golden Shoes (6), most goals for a single club (672, with Barcelona), most goals (474), hat-tricks (36) and assists (192) in La Liga, most matches played (39), assists (18) and goal contributions (34) in the Copa América, most matches played (26) and goal contributions (21) in the World Cup, most international appearances (189) and international goals (112) by a South American male, and the second-most in the latter category outright. A prolific goalscorer and creative playmaker, Messi has scored over 850 senior career goals for club and country.\n",
      "\n",
      "Born in Rosario, Argentina, Messi relocated to Spain to join Barcelona at age 13, and made his competitive debut at age 17 in October 2004. He established himself as an integral player for the club within the next three years, and in his first uninterrupted season in 2008–09 helped Barcelona achieve the first treble in Spanish football; that year, aged 22, Messi won the first of his four consecutive Ballons d'Or, the first player to win it four times. During the 2011–12 season, he set La Liga and European records for most goals in a season, while establishing himself as Barcelona's all-time top scorer. The following two seasons, he finished second for the Ballon d'Or behind Cristiano Ronaldo, his perceived career rival, before regaining his best form during the 2014–15 campaign, where he became the all-time top scorer in La Liga, led Barcelona to a historic second treble, and won a fifth Ballon d'Or in 2015. Messi assumed captaincy of Barcelona in 2018, and won a record sixth Ballon d'Or in 2019. During his overall tenure at Barcelona, Messi won a club-record 34 trophies, including ten La Liga titles and four UEFA Champions Leagues, among others. He signed for French club Paris Saint-Germain in August 2021, where he would win the Ligue 1 title during both of his seasons there. Messi joined American club Inter Miami in July 2023, and set a new mark for most goals scored for the club by his second season.\n",
      "\n",
      "An Argentine international, Messi is the national team's all-time leading goalscorer and most-capped player. His style of play as a diminutive, left-footed dribbler drew career-long comparisons with compatriot Diego Maradona, who described Messi as his successor. At the youth level, he won the 2005 FIFA World Youth Championship and gold medal at the 2008 Summer Olympics. After his senior debut in 2005, Messi became the youngest Argentine to play and score in a World Cup in 2006. He assumed the national team's captaincy in 2011, and then led Argentina to three consecutive finals: the 2014 FIFA World Cup, the 2015 Copa América and the Copa América Centenario, all of which they would lose. After initially announcing his international retirement in 2016, he returned to help his country narrowly qualify for the 2018 FIFA World Cup, which they would again exit early. Messi and the national team finally broke Argentina's 28-year trophy drought with a victory in the 2021 Copa América, where he was named the tournament's best player and which later helped him win his seventh Ballon d'Or that year. He then led Argentina to win the 2022 FIFA World Cup, his country's third overall world championship and first in 36 years. This followed with a record-extending eighth Ballon d'Or in 2023. A second Copa América victory with Messi as captain came in 2024.\n",
      "\n",
      "Messi has endorsed sportswear company Adidas since 2006. According to France Football, he was the world's highest-paid footballer for five years out of six between 2009 and 2014, and was ranked the world's highest-paid athlete by Forbes in 2019 and 2022. Messi was among Time's 100 most influential people in the world in 2011, 2012, and 2023. In 2020 and 2023, he was named the Laureus World Sportsman of the Year, the first team-sport athlete to win it. In 2020, Messi was named to the Ballon d'Or Dream Team and became the second footballer and second team-sport athlete to surpass $1 billion in career earnings.\n",
      "\n",
      "Early life\n",
      "Messi was born on 24 June 1987 in Rosario, Santa Fe Province,[21] the third of four children of Jorge Messi, a steel factory manager, and his wife Celia Cuccittini, who worked in a magnet manufacturing workshop. On his father's side, he is of Italian and Spanish descent, the great-grandson of immigrants from the north-central Adriatic Marche region of Italy, and on his mother's side, he has primarily Italian ancestry.[3] Growing up in a tight-knit, football-loving family, \"Leo\" developed a passion for the sport from an early age, playing constantly with his older brothers, Rodrigo and Matías, and his cousins, Maximiliano and Emanuel Biancucchi, both of whom became professional footballers.[22] At the age of four he joined local club Grandoli, where he was coached by his father, though his earliest influence as a player came from his maternal grandmother, Celia, who accompanied him to training and matches.[23] He was greatly affected by her death, shortly before his eleventh birthday; since then, as a devout Catholic, he has celebrated his goals by looking up and pointing to the sky in tribute to his grandmother.[24][25]\n"
     ]
    }
   ],
   "source": [
    "with open('messi.txt', 'r') as f:\n",
    "    text = f.read()\n",
    "    print(text)"
   ]
  },
  {
   "cell_type": "code",
   "execution_count": 10,
   "metadata": {
    "colab": {
     "base_uri": "https://localhost:8080/"
    },
    "id": "kgceNapWCvx8",
    "outputId": "84cba908-43d8-41e4-d0bc-2da38dad13cb"
   },
   "outputs": [
    {
     "name": "stdout",
     "output_type": "stream",
     "text": [
      "['Lionel Andrés Messi[note 1] (Spanish pronunciation: [ljoˈnel anˈdɾes ˈmesi] ⓘ; born 24 June 1987), a', 'lso known as Leo Messi, is an Argentine professional footballer who plays as a forward for and capta', 'ins both Major League Soccer club Inter Miami and the Argentina national team. Widely regarded as on', 'e of the greatest players of all time, Messi set numerous records for individual accolades won throu', \"ghout his professional footballing career such as eight Ballon d'Or awards and eight times being nam\", \"ed the world's best player by FIFA.[note 2] He is the most decorated player in the history of profes\", 'sional football having won 45 team trophies,[note 3] including twelve league titles, four UEFA Champ', 'ions Leagues, two Copa Américas, and one FIFA World Cup. Messi holds the records for most European G', 'olden Shoes (6), most goals for a single club (672, with Barcelona), most goals (474), hat-tricks (3', '6) and assists (192) in La Liga, most matches played (39), assists (18) and goal contributions (34) ', 'in the Copa América, most matches played (26) and goal contributions (21) in the World Cup, most int', 'ernational appearances (189) and international goals (112) by a South American male, and the second-', 'most in the latter category outright. A prolific goalscorer and creative playmaker, Messi has scored', ' over 850 senior career goals for club and country.\\n\\nBorn in Rosario, Argentina, Messi relocated to ', 'Spain to join Barcelona at age 13, and made his competitive debut at age 17 in October 2004. He esta', 'blished himself as an integral player for the club within the next three years, and in his first uni', 'nterrupted season in 2008–09 helped Barcelona achieve the first treble in Spanish football; that yea', \"r, aged 22, Messi won the first of his four consecutive Ballons d'Or, the first player to win it fou\", 'r times. During the 2011–12 season, he set La Liga and European records for most goals in a season, ', \"while establishing himself as Barcelona's all-time top scorer. The following two seasons, he finishe\", \"d second for the Ballon d'Or behind Cristiano Ronaldo, his perceived career rival, before regaining \", 'his best form during the 2014–15 campaign, where he became the all-time top scorer in La Liga, led B', \"arcelona to a historic second treble, and won a fifth Ballon d'Or in 2015. Messi assumed captaincy o\", \"f Barcelona in 2018, and won a record sixth Ballon d'Or in 2019. During his overall tenure at Barcel\", 'ona, Messi won a club-record 34 trophies, including ten La Liga titles and four UEFA Champions Leagu', 'es, among others. He signed for French club Paris Saint-Germain in August 2021, where he would win t', 'he Ligue 1 title during both of his seasons there. Messi joined American club Inter Miami in July 20', '23, and set a new mark for most goals scored for the club by his second season.\\n\\nAn Argentine intern', \"ational, Messi is the national team's all-time leading goalscorer and most-capped player. His style \", 'of play as a diminutive, left-footed dribbler drew career-long comparisons with compatriot Diego Mar', 'adona, who described Messi as his successor. At the youth level, he won the 2005 FIFA World Youth Ch', 'ampionship and gold medal at the 2008 Summer Olympics. After his senior debut in 2005, Messi became ', \"the youngest Argentine to play and score in a World Cup in 2006. He assumed the national team's capt\", 'aincy in 2011, and then led Argentina to three consecutive finals: the 2014 FIFA World Cup, the 2015', ' Copa América and the Copa América Centenario, all of which they would lose. After initially announc', 'ing his international retirement in 2016, he returned to help his country narrowly qualify for the 2', '018 FIFA World Cup, which they would again exit early. Messi and the national team finally broke Arg', \"entina's 28-year trophy drought with a victory in the 2021 Copa América, where he was named the tour\", \"nament's best player and which later helped him win his seventh Ballon d'Or that year. He then led A\", \"rgentina to win the 2022 FIFA World Cup, his country's third overall world championship and first in\", \" 36 years. This followed with a record-extending eighth Ballon d'Or in 2023. A second Copa América v\", 'ictory with Messi as captain came in 2024.\\n\\nMessi has endorsed sportswear company Adidas since 2006.', \" According to France Football, he was the world's highest-paid footballer for five years out of six \", \"between 2009 and 2014, and was ranked the world's highest-paid athlete by Forbes in 2019 and 2022. M\", \"essi was among Time's 100 most influential people in the world in 2011, 2012, and 2023. In 2020 and \", '2023, he was named the Laureus World Sportsman of the Year, the first team-sport athlete to win it. ', \"In 2020, Messi was named to the Ballon d'Or Dream Team and became the second footballer and second t\", 'eam-sport athlete to surpass $1 billion in career earnings.\\n\\nEarly life\\nMessi was born on 24 June 19', '87 in Rosario, Santa Fe Province,[21] the third of four children of Jorge Messi, a steel factory man', \"ager, and his wife Celia Cuccittini, who worked in a magnet manufacturing workshop. On his father's \", 'side, he is of Italian and Spanish descent, the great-grandson of immigrants from the north-central ', \"Adriatic Marche region of Italy, and on his mother's side, he has primarily Italian ancestry.[3] Gro\", 'wing up in a tight-knit, football-loving family, \"Leo\" developed a passion for the sport from an ear', 'ly age, playing constantly with his older brothers, Rodrigo and Matías, and his cousins, Maximiliano', ' and Emanuel Biancucchi, both of whom became professional footballers.[22] At the age of four he joi', 'ned local club Grandoli, where he was coached by his father, though his earliest influence as a play', 'er came from his maternal grandmother, Celia, who accompanied him to training and matches.[23] He wa', 's greatly affected by her death, shortly before his eleventh birthday; since then, as a devout Catho', 'lic, he has celebrated his goals by looking up and pointing to the sky in tribute to his grandmother', '.[24][25]']\n"
     ]
    }
   ],
   "source": [
    "CHUNNK_SIZE = 100\n",
    "chunks = []\n",
    "current_place = 0\n",
    "while current_place < len(text):\n",
    "    current_chunk = text[current_place : current_place + CHUNNK_SIZE]\n",
    "    chunks.append(current_chunk)\n",
    "    current_place += CHUNNK_SIZE\n",
    "print(chunks)"
   ]
  },
  {
   "cell_type": "code",
   "execution_count": 1,
   "metadata": {
    "colab": {
     "base_uri": "https://localhost:8080/",
     "height": 211
    },
    "collapsed": true,
    "id": "RMhAcKiCC2JI",
    "outputId": "6ebf455f-9c94-4e20-f185-ce1c0228b20c"
   },
   "outputs": [
    {
     "ename": "NameError",
     "evalue": "name 'chunks' is not defined",
     "output_type": "error",
     "traceback": [
      "\u001b[0;31m---------------------------------------------------------------------------\u001b[0m",
      "\u001b[0;31mNameError\u001b[0m                                 Traceback (most recent call last)",
      "\u001b[0;32m<ipython-input-1-c605bd5b6fd3>\u001b[0m in \u001b[0;36m<cell line: 2>\u001b[0;34m()\u001b[0m\n\u001b[1;32m      1\u001b[0m \u001b[0membedded_chunks\u001b[0m \u001b[0;34m=\u001b[0m \u001b[0;34m[\u001b[0m\u001b[0;34m]\u001b[0m\u001b[0;34m\u001b[0m\u001b[0;34m\u001b[0m\u001b[0m\n\u001b[0;32m----> 2\u001b[0;31m \u001b[0;32mfor\u001b[0m \u001b[0mchunk\u001b[0m \u001b[0;32min\u001b[0m \u001b[0mchunks\u001b[0m\u001b[0;34m:\u001b[0m\u001b[0;34m\u001b[0m\u001b[0;34m\u001b[0m\u001b[0m\n\u001b[0m\u001b[1;32m      3\u001b[0m     response = client.embeddings.create(\n\u001b[1;32m      4\u001b[0m         \u001b[0minput\u001b[0m\u001b[0;34m=\u001b[0m\u001b[0mchunk\u001b[0m\u001b[0;34m,\u001b[0m\u001b[0;34m\u001b[0m\u001b[0;34m\u001b[0m\u001b[0m\n\u001b[1;32m      5\u001b[0m         \u001b[0mmodel\u001b[0m\u001b[0;34m=\u001b[0m\u001b[0;34m\"text-embedding-3-small\"\u001b[0m\u001b[0;34m\u001b[0m\u001b[0;34m\u001b[0m\u001b[0m\n",
      "\u001b[0;31mNameError\u001b[0m: name 'chunks' is not defined"
     ]
    }
   ],
   "source": [
    "embedded_chunks = []\n",
    "for chunk in chunks:\n",
    "    response = client.embeddings.create(\n",
    "        input=chunk,\n",
    "        model=\"text-embedding-3-small\"\n",
    "    )\n",
    "    embedded_chunks.append( (chunk, response.data[0].embedding) )\n",
    "print(embedded_chunks)"
   ]
  },
  {
   "cell_type": "code",
   "execution_count": 12,
   "metadata": {
    "id": "uXHHepwLC_ol"
   },
   "outputs": [],
   "source": [
    "def cosine_simularity(A, B):\n",
    "    return np.dot(A,B) / ( np.linalg.norm(A) * np.linalg.norm(B) )"
   ]
  },
  {
   "cell_type": "code",
   "execution_count": 13,
   "metadata": {
    "id": "7rBqc6aCDII5"
   },
   "outputs": [],
   "source": [
    "question = \"is messi the goat?\""
   ]
  },
  {
   "cell_type": "code",
   "execution_count": 14,
   "metadata": {
    "colab": {
     "base_uri": "https://localhost:8080/",
     "height": 445
    },
    "id": "YTyo9TmfDLpx",
    "outputId": "9f848849-bd74-4cc7-d2bc-f25562d0e4ef"
   },
   "outputs": [
    {
     "ename": "AuthenticationError",
     "evalue": "Error code: 401 - {'error': {'message': 'Incorrect API key provided: sk-proj-********************************************************************************************************************************************************rFMA. You can find your API key at https://platform.openai.com/account/api-keys.', 'type': 'invalid_request_error', 'param': None, 'code': 'invalid_api_key'}}",
     "output_type": "error",
     "traceback": [
      "\u001b[0;31m---------------------------------------------------------------------------\u001b[0m",
      "\u001b[0;31mAuthenticationError\u001b[0m                       Traceback (most recent call last)",
      "\u001b[0;32m<ipython-input-14-4c84cd1c0fca>\u001b[0m in \u001b[0;36m<cell line: 1>\u001b[0;34m()\u001b[0m\n\u001b[0;32m----> 1\u001b[0;31m question_embedding = client.embeddings.create(\n\u001b[0m\u001b[1;32m      2\u001b[0m         \u001b[0minput\u001b[0m\u001b[0;34m=\u001b[0m\u001b[0mquestion\u001b[0m\u001b[0;34m,\u001b[0m\u001b[0;34m\u001b[0m\u001b[0;34m\u001b[0m\u001b[0m\n\u001b[1;32m      3\u001b[0m         \u001b[0mmodel\u001b[0m\u001b[0;34m=\u001b[0m\u001b[0;34m\"text-embedding-3-small\"\u001b[0m\u001b[0;34m\u001b[0m\u001b[0;34m\u001b[0m\u001b[0m\n\u001b[1;32m      4\u001b[0m     ).data[0].embedding\n\u001b[1;32m      5\u001b[0m \u001b[0mprint\u001b[0m\u001b[0;34m(\u001b[0m\u001b[0mquestion_embedding\u001b[0m\u001b[0;34m)\u001b[0m\u001b[0;34m\u001b[0m\u001b[0;34m\u001b[0m\u001b[0m\n",
      "\u001b[0;32m/usr/local/lib/python3.10/dist-packages/openai/resources/embeddings.py\u001b[0m in \u001b[0;36mcreate\u001b[0;34m(self, input, model, dimensions, encoding_format, user, extra_headers, extra_query, extra_body, timeout)\u001b[0m\n\u001b[1;32m    122\u001b[0m             \u001b[0;32mreturn\u001b[0m \u001b[0mobj\u001b[0m\u001b[0;34m\u001b[0m\u001b[0;34m\u001b[0m\u001b[0m\n\u001b[1;32m    123\u001b[0m \u001b[0;34m\u001b[0m\u001b[0m\n\u001b[0;32m--> 124\u001b[0;31m         return self._post(\n\u001b[0m\u001b[1;32m    125\u001b[0m             \u001b[0;34m\"/embeddings\"\u001b[0m\u001b[0;34m,\u001b[0m\u001b[0;34m\u001b[0m\u001b[0;34m\u001b[0m\u001b[0m\n\u001b[1;32m    126\u001b[0m             \u001b[0mbody\u001b[0m\u001b[0;34m=\u001b[0m\u001b[0mmaybe_transform\u001b[0m\u001b[0;34m(\u001b[0m\u001b[0mparams\u001b[0m\u001b[0;34m,\u001b[0m \u001b[0membedding_create_params\u001b[0m\u001b[0;34m.\u001b[0m\u001b[0mEmbeddingCreateParams\u001b[0m\u001b[0;34m)\u001b[0m\u001b[0;34m,\u001b[0m\u001b[0;34m\u001b[0m\u001b[0;34m\u001b[0m\u001b[0m\n",
      "\u001b[0;32m/usr/local/lib/python3.10/dist-packages/openai/_base_client.py\u001b[0m in \u001b[0;36mpost\u001b[0;34m(self, path, cast_to, body, options, files, stream, stream_cls)\u001b[0m\n\u001b[1;32m   1276\u001b[0m             \u001b[0mmethod\u001b[0m\u001b[0;34m=\u001b[0m\u001b[0;34m\"post\"\u001b[0m\u001b[0;34m,\u001b[0m \u001b[0murl\u001b[0m\u001b[0;34m=\u001b[0m\u001b[0mpath\u001b[0m\u001b[0;34m,\u001b[0m \u001b[0mjson_data\u001b[0m\u001b[0;34m=\u001b[0m\u001b[0mbody\u001b[0m\u001b[0;34m,\u001b[0m \u001b[0mfiles\u001b[0m\u001b[0;34m=\u001b[0m\u001b[0mto_httpx_files\u001b[0m\u001b[0;34m(\u001b[0m\u001b[0mfiles\u001b[0m\u001b[0;34m)\u001b[0m\u001b[0;34m,\u001b[0m \u001b[0;34m**\u001b[0m\u001b[0moptions\u001b[0m\u001b[0;34m\u001b[0m\u001b[0;34m\u001b[0m\u001b[0m\n\u001b[1;32m   1277\u001b[0m         )\n\u001b[0;32m-> 1278\u001b[0;31m         \u001b[0;32mreturn\u001b[0m \u001b[0mcast\u001b[0m\u001b[0;34m(\u001b[0m\u001b[0mResponseT\u001b[0m\u001b[0;34m,\u001b[0m \u001b[0mself\u001b[0m\u001b[0;34m.\u001b[0m\u001b[0mrequest\u001b[0m\u001b[0;34m(\u001b[0m\u001b[0mcast_to\u001b[0m\u001b[0;34m,\u001b[0m \u001b[0mopts\u001b[0m\u001b[0;34m,\u001b[0m \u001b[0mstream\u001b[0m\u001b[0;34m=\u001b[0m\u001b[0mstream\u001b[0m\u001b[0;34m,\u001b[0m \u001b[0mstream_cls\u001b[0m\u001b[0;34m=\u001b[0m\u001b[0mstream_cls\u001b[0m\u001b[0;34m)\u001b[0m\u001b[0;34m)\u001b[0m\u001b[0;34m\u001b[0m\u001b[0;34m\u001b[0m\u001b[0m\n\u001b[0m\u001b[1;32m   1279\u001b[0m \u001b[0;34m\u001b[0m\u001b[0m\n\u001b[1;32m   1280\u001b[0m     def patch(\n",
      "\u001b[0;32m/usr/local/lib/python3.10/dist-packages/openai/_base_client.py\u001b[0m in \u001b[0;36mrequest\u001b[0;34m(self, cast_to, options, remaining_retries, stream, stream_cls)\u001b[0m\n\u001b[1;32m    953\u001b[0m             \u001b[0mretries_taken\u001b[0m \u001b[0;34m=\u001b[0m \u001b[0;36m0\u001b[0m\u001b[0;34m\u001b[0m\u001b[0;34m\u001b[0m\u001b[0m\n\u001b[1;32m    954\u001b[0m \u001b[0;34m\u001b[0m\u001b[0m\n\u001b[0;32m--> 955\u001b[0;31m         return self._request(\n\u001b[0m\u001b[1;32m    956\u001b[0m             \u001b[0mcast_to\u001b[0m\u001b[0;34m=\u001b[0m\u001b[0mcast_to\u001b[0m\u001b[0;34m,\u001b[0m\u001b[0;34m\u001b[0m\u001b[0;34m\u001b[0m\u001b[0m\n\u001b[1;32m    957\u001b[0m             \u001b[0moptions\u001b[0m\u001b[0;34m=\u001b[0m\u001b[0moptions\u001b[0m\u001b[0;34m,\u001b[0m\u001b[0;34m\u001b[0m\u001b[0;34m\u001b[0m\u001b[0m\n",
      "\u001b[0;32m/usr/local/lib/python3.10/dist-packages/openai/_base_client.py\u001b[0m in \u001b[0;36m_request\u001b[0;34m(self, cast_to, options, retries_taken, stream, stream_cls)\u001b[0m\n\u001b[1;32m   1057\u001b[0m \u001b[0;34m\u001b[0m\u001b[0m\n\u001b[1;32m   1058\u001b[0m             \u001b[0mlog\u001b[0m\u001b[0;34m.\u001b[0m\u001b[0mdebug\u001b[0m\u001b[0;34m(\u001b[0m\u001b[0;34m\"Re-raising status error\"\u001b[0m\u001b[0;34m)\u001b[0m\u001b[0;34m\u001b[0m\u001b[0;34m\u001b[0m\u001b[0m\n\u001b[0;32m-> 1059\u001b[0;31m             \u001b[0;32mraise\u001b[0m \u001b[0mself\u001b[0m\u001b[0;34m.\u001b[0m\u001b[0m_make_status_error_from_response\u001b[0m\u001b[0;34m(\u001b[0m\u001b[0merr\u001b[0m\u001b[0;34m.\u001b[0m\u001b[0mresponse\u001b[0m\u001b[0;34m)\u001b[0m \u001b[0;32mfrom\u001b[0m \u001b[0;32mNone\u001b[0m\u001b[0;34m\u001b[0m\u001b[0;34m\u001b[0m\u001b[0m\n\u001b[0m\u001b[1;32m   1060\u001b[0m \u001b[0;34m\u001b[0m\u001b[0m\n\u001b[1;32m   1061\u001b[0m         return self._process_response(\n",
      "\u001b[0;31mAuthenticationError\u001b[0m: Error code: 401 - {'error': {'message': 'Incorrect API key provided: sk-proj-********************************************************************************************************************************************************rFMA. You can find your API key at https://platform.openai.com/account/api-keys.', 'type': 'invalid_request_error', 'param': None, 'code': 'invalid_api_key'}}"
     ]
    }
   ],
   "source": [
    "question_embedding = client.embeddings.create(\n",
    "        input=question,\n",
    "        model=\"text-embedding-3-small\"\n",
    "    ).data[0].embedding\n",
    "print(question_embedding)\n",
    "print(len(question_embedding))"
   ]
  },
  {
   "cell_type": "code",
   "execution_count": null,
   "metadata": {
    "id": "4npMN7uaDVHO"
   },
   "outputs": [],
   "source": [
    "best_cosine_similarity = 0\n",
    "index = 0\n",
    "for i in range(len(embedded_chunks)):\n",
    "    similarity = cosine_simularity(question_embedding, embedded_chunks[i][1])\n",
    "    if similarity > best_cosine_similarity:\n",
    "        best_cosine_similarity = similarity\n",
    "        index = i"
   ]
  },
  {
   "cell_type": "code",
   "execution_count": null,
   "metadata": {
    "colab": {
     "base_uri": "https://localhost:8080/"
    },
    "id": "BewHTuD7Dg9W",
    "outputId": "0b217075-ef4a-4bca-beab-2c6bb63eb969"
   },
   "outputs": [
    {
     "name": "stdout",
     "output_type": "stream",
     "text": [
      "Relevant information: ta Hawks, Charlotte Hornets, Miami Heat, Orlando Magic, Washington Wizards\n",
      "When was the NBA establis\n"
     ]
    }
   ],
   "source": [
    "print(f\"Relevant information: {embedded_chunks[index][0]}\")\n",
    "\n",
    "completion = client.chat.completions.create(\n",
    "    model=\"gpt-4o\",\n",
    "    messages=[\n",
    "        {\"role\": \"system\", \"content\": \"You are a helpful assistant.\"},\n",
    "        {\n",
    "            \"role\": \"user\", \"content\": f\"User question: {question}. Potentially useful information: {embedded_chunks[index][0]}\"\n",
    "        }\n",
    "    ]\n",
    ")"
   ]
  },
  {
   "cell_type": "code",
   "execution_count": null,
   "metadata": {
    "colab": {
     "base_uri": "https://localhost:8080/"
    },
    "id": "pg6P_-onDpvv",
    "outputId": "65f84203-3790-4699-a551-7d22593c1f18"
   },
   "outputs": [
    {
     "name": "stdout",
     "output_type": "stream",
     "text": [
      "The National Basketball Association (NBA) was established on June 6, 1946. It was originally formed as the Basketball Association of America (BAA) in New York City by team owners from major ice hockey arenas in the Northeastern and Midwestern United States and Canada. The BAA merged with the National Basketball League (NBL) on August 3, 1949, and was renamed the National Basketball Association. The league initially included 17 teams, but over time it has expanded and contracted to its current form.\n"
     ]
    }
   ],
   "source": [
    "print(completion.choices[0].message.content)"
   ]
  },
  {
   "cell_type": "code",
   "execution_count": null,
   "metadata": {
    "id": "QeGNXQB_2_4S"
   },
   "outputs": [],
   "source": []
  }
 ],
 "metadata": {
  "colab": {
   "provenance": []
  },
  "kernelspec": {
   "display_name": "Python 3",
   "name": "python3"
  },
  "language_info": {
   "name": "python"
  }
 },
 "nbformat": 4,
 "nbformat_minor": 0
}
